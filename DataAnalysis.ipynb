{
 "cells": [
  {
   "attachments": {},
   "cell_type": "markdown",
   "metadata": {},
   "source": [
    "# Data Analysis Documentation "
   ]
  },
  {
   "attachments": {},
   "cell_type": "markdown",
   "metadata": {},
   "source": [
    "## Data Sourcing and Description"
   ]
  },
  {
   "attachments": {},
   "cell_type": "markdown",
   "metadata": {},
   "source": [
    "#### Install required libraries"
   ]
  },
  {
   "cell_type": "code",
   "execution_count": null,
   "metadata": {},
   "outputs": [],
   "source": [
    "import openpyxl\n",
    "import pandas as pd\n",
    "import seaborn as sns\n",
    "import matplotlib.pyplot as plt"
   ]
  },
  {
   "attachments": {},
   "cell_type": "markdown",
   "metadata": {},
   "source": [
    "#### Imported dataset into Python, Calculated the required statistics"
   ]
  },
  {
   "cell_type": "code",
   "execution_count": 63,
   "metadata": {},
   "outputs": [
    {
     "name": "stdout",
     "output_type": "stream",
     "text": [
      "(1470, 11)\n",
      "Age                          int64\n",
      "Attrition                   object\n",
      "Department                  object\n",
      "EducationField              object\n",
      "Gender                      object\n",
      "MaritalStatus               object\n",
      "MonthlyIncome              float64\n",
      "TotalWorkingYears          float64\n",
      "TrainingTimesLastYear      float64\n",
      "WorkLifeBalance            float64\n",
      "YearsSinceLastPromotion    float64\n",
      "dtype: object\n"
     ]
    }
   ],
   "source": [
    "# read the Excel file\n",
    "df = pd.read_excel(r\"C:\\Users\\bachi\\PycharmProjects\\project\\DataBase.xlsx\")\n",
    "# number of observations and features\n",
    "print(df.shape)\n",
    "# data types of each column\n",
    "print(df.dtypes)"
   ]
  },
  {
   "cell_type": "code",
   "execution_count": 64,
   "metadata": {},
   "outputs": [
    {
     "name": "stdout",
     "output_type": "stream",
     "text": [
      "Age                         0\n",
      "Attrition                   0\n",
      "Department                  2\n",
      "EducationField              9\n",
      "Gender                      8\n",
      "MaritalStatus              14\n",
      "MonthlyIncome              17\n",
      "TotalWorkingYears          14\n",
      "TrainingTimesLastYear       5\n",
      "WorkLifeBalance             4\n",
      "YearsSinceLastPromotion     2\n",
      "dtype: int64\n"
     ]
    }
   ],
   "source": [
    "\n",
    "# number of missing values in each column\n",
    "print(df.isna().sum())\n"
   ]
  },
  {
   "attachments": {},
   "cell_type": "markdown",
   "metadata": {},
   "source": [
    "#### Describing the data for better insights "
   ]
  },
  {
   "cell_type": "code",
   "execution_count": 5,
   "metadata": {},
   "outputs": [
    {
     "data": {
      "text/html": [
       "<div>\n",
       "<style scoped>\n",
       "    .dataframe tbody tr th:only-of-type {\n",
       "        vertical-align: middle;\n",
       "    }\n",
       "\n",
       "    .dataframe tbody tr th {\n",
       "        vertical-align: top;\n",
       "    }\n",
       "\n",
       "    .dataframe thead th {\n",
       "        text-align: right;\n",
       "    }\n",
       "</style>\n",
       "<table border=\"1\" class=\"dataframe\">\n",
       "  <thead>\n",
       "    <tr style=\"text-align: right;\">\n",
       "      <th></th>\n",
       "      <th>Age</th>\n",
       "      <th>MonthlyIncome</th>\n",
       "      <th>TotalWorkingYears</th>\n",
       "      <th>TrainingTimesLastYear</th>\n",
       "      <th>WorkLifeBalance</th>\n",
       "      <th>YearsSinceLastPromotion</th>\n",
       "    </tr>\n",
       "  </thead>\n",
       "  <tbody>\n",
       "    <tr>\n",
       "      <th>count</th>\n",
       "      <td>1470.000000</td>\n",
       "      <td>1453.000000</td>\n",
       "      <td>1456.000000</td>\n",
       "      <td>1465.000000</td>\n",
       "      <td>1466.000000</td>\n",
       "      <td>1468.000000</td>\n",
       "    </tr>\n",
       "    <tr>\n",
       "      <th>mean</th>\n",
       "      <td>36.923810</td>\n",
       "      <td>6494.671714</td>\n",
       "      <td>11.288462</td>\n",
       "      <td>2.797270</td>\n",
       "      <td>2.761255</td>\n",
       "      <td>2.185286</td>\n",
       "    </tr>\n",
       "    <tr>\n",
       "      <th>std</th>\n",
       "      <td>9.135373</td>\n",
       "      <td>4710.120035</td>\n",
       "      <td>7.801350</td>\n",
       "      <td>1.290145</td>\n",
       "      <td>0.707077</td>\n",
       "      <td>3.222027</td>\n",
       "    </tr>\n",
       "    <tr>\n",
       "      <th>min</th>\n",
       "      <td>18.000000</td>\n",
       "      <td>1009.000000</td>\n",
       "      <td>0.000000</td>\n",
       "      <td>0.000000</td>\n",
       "      <td>1.000000</td>\n",
       "      <td>0.000000</td>\n",
       "    </tr>\n",
       "    <tr>\n",
       "      <th>25%</th>\n",
       "      <td>30.000000</td>\n",
       "      <td>2909.000000</td>\n",
       "      <td>6.000000</td>\n",
       "      <td>2.000000</td>\n",
       "      <td>2.000000</td>\n",
       "      <td>0.000000</td>\n",
       "    </tr>\n",
       "    <tr>\n",
       "      <th>50%</th>\n",
       "      <td>36.000000</td>\n",
       "      <td>4907.000000</td>\n",
       "      <td>10.000000</td>\n",
       "      <td>3.000000</td>\n",
       "      <td>3.000000</td>\n",
       "      <td>1.000000</td>\n",
       "    </tr>\n",
       "    <tr>\n",
       "      <th>75%</th>\n",
       "      <td>43.000000</td>\n",
       "      <td>8376.000000</td>\n",
       "      <td>15.000000</td>\n",
       "      <td>3.000000</td>\n",
       "      <td>3.000000</td>\n",
       "      <td>3.000000</td>\n",
       "    </tr>\n",
       "    <tr>\n",
       "      <th>max</th>\n",
       "      <td>60.000000</td>\n",
       "      <td>19999.000000</td>\n",
       "      <td>40.000000</td>\n",
       "      <td>6.000000</td>\n",
       "      <td>4.000000</td>\n",
       "      <td>15.000000</td>\n",
       "    </tr>\n",
       "  </tbody>\n",
       "</table>\n",
       "</div>"
      ],
      "text/plain": [
       "               Age  MonthlyIncome  TotalWorkingYears  TrainingTimesLastYear  \\\n",
       "count  1470.000000    1453.000000        1456.000000            1465.000000   \n",
       "mean     36.923810    6494.671714          11.288462               2.797270   \n",
       "std       9.135373    4710.120035           7.801350               1.290145   \n",
       "min      18.000000    1009.000000           0.000000               0.000000   \n",
       "25%      30.000000    2909.000000           6.000000               2.000000   \n",
       "50%      36.000000    4907.000000          10.000000               3.000000   \n",
       "75%      43.000000    8376.000000          15.000000               3.000000   \n",
       "max      60.000000   19999.000000          40.000000               6.000000   \n",
       "\n",
       "       WorkLifeBalance  YearsSinceLastPromotion  \n",
       "count      1466.000000              1468.000000  \n",
       "mean          2.761255                 2.185286  \n",
       "std           0.707077                 3.222027  \n",
       "min           1.000000                 0.000000  \n",
       "25%           2.000000                 0.000000  \n",
       "50%           3.000000                 1.000000  \n",
       "75%           3.000000                 3.000000  \n",
       "max           4.000000                15.000000  "
      ]
     },
     "execution_count": 5,
     "metadata": {},
     "output_type": "execute_result"
    }
   ],
   "source": [
    "#descrioption of the data\n",
    "df.describe()"
   ]
  },
  {
   "attachments": {},
   "cell_type": "markdown",
   "metadata": {},
   "source": [
    "## Data Pre-processing"
   ]
  },
  {
   "attachments": {},
   "cell_type": "markdown",
   "metadata": {},
   "source": [
    "### Printing box plot for the monthly income column to visually identify outliers"
   ]
  },
  {
   "cell_type": "code",
   "execution_count": 66,
   "metadata": {},
   "outputs": [
    {
     "data": {
      "image/png": "[encoded data removed]",
      "text/plain": [
       "<Figure size 640x480 with 1 Axes>"
      ]
     },
     "metadata": {},
     "output_type": "display_data"
    }
   ],
   "source": [
    "# box plot of MonthlyIncome column\n",
    "box = df.boxplot(column=['MonthlyIncome'])\n",
    "plt.show()"
   ]
  },
  {
   "attachments": {},
   "cell_type": "markdown",
   "metadata": {},
   "source": [
    "### Calculating the IQR, Applying the IQR method to identify outliers, and printing the outliers"
   ]
  },
  {
   "cell_type": "code",
   "execution_count": 67,
   "metadata": {
    "tags": []
   },
   "outputs": [
    {
     "name": "stdout",
     "output_type": "stream",
     "text": [
      "Rows with outliers:\n"
     ]
    },
    {
     "data": {
      "text/html": [
       "<div>\n",
       "<style scoped>\n",
       "    .dataframe tbody tr th:only-of-type {\n",
       "        vertical-align: middle;\n",
       "    }\n",
       "\n",
       "    .dataframe tbody tr th {\n",
       "        vertical-align: top;\n",
       "    }\n",
       "\n",
       "    .dataframe thead th {\n",
       "        text-align: right;\n",
       "    }\n",
       "</style>\n",
       "<table border=\"1\" class=\"dataframe\">\n",
       "  <thead>\n",
       "    <tr style=\"text-align: right;\">\n",
       "      <th></th>\n",
       "      <th>Age</th>\n",
       "      <th>Attrition</th>\n",
       "      <th>Department</th>\n",
       "      <th>EducationField</th>\n",
       "      <th>Gender</th>\n",
       "      <th>MaritalStatus</th>\n",
       "      <th>MonthlyIncome</th>\n",
       "      <th>TotalWorkingYears</th>\n",
       "      <th>TrainingTimesLastYear</th>\n",
       "      <th>WorkLifeBalance</th>\n",
       "      <th>YearsSinceLastPromotion</th>\n",
       "    </tr>\n",
       "  </thead>\n",
       "  <tbody>\n",
       "    <tr>\n",
       "      <th>25</th>\n",
       "      <td>53</td>\n",
       "      <td>No</td>\n",
       "      <td>Research &amp; Development</td>\n",
       "      <td>Other</td>\n",
       "      <td>Female</td>\n",
       "      <td>Divorced</td>\n",
       "      <td>19094.0</td>\n",
       "      <td>26.0</td>\n",
       "      <td>3.0</td>\n",
       "      <td>2.0</td>\n",
       "      <td>4.0</td>\n",
       "    </tr>\n",
       "    <tr>\n",
       "      <th>29</th>\n",
       "      <td>46</td>\n",
       "      <td>No</td>\n",
       "      <td>Sales</td>\n",
       "      <td>Marketing</td>\n",
       "      <td>Female</td>\n",
       "      <td>Single</td>\n",
       "      <td>18947.0</td>\n",
       "      <td>22.0</td>\n",
       "      <td>2.0</td>\n",
       "      <td>2.0</td>\n",
       "      <td>2.0</td>\n",
       "    </tr>\n",
       "    <tr>\n",
       "      <th>45</th>\n",
       "      <td>41</td>\n",
       "      <td>Yes</td>\n",
       "      <td>Research &amp; Development</td>\n",
       "      <td>Technical Degree</td>\n",
       "      <td>Female</td>\n",
       "      <td>Married</td>\n",
       "      <td>19545.0</td>\n",
       "      <td>23.0</td>\n",
       "      <td>0.0</td>\n",
       "      <td>3.0</td>\n",
       "      <td>15.0</td>\n",
       "    </tr>\n",
       "    <tr>\n",
       "      <th>62</th>\n",
       "      <td>50</td>\n",
       "      <td>No</td>\n",
       "      <td>Research &amp; Development</td>\n",
       "      <td>Medical</td>\n",
       "      <td>Female</td>\n",
       "      <td>Divorced</td>\n",
       "      <td>18740.0</td>\n",
       "      <td>29.0</td>\n",
       "      <td>2.0</td>\n",
       "      <td>2.0</td>\n",
       "      <td>13.0</td>\n",
       "    </tr>\n",
       "    <tr>\n",
       "      <th>105</th>\n",
       "      <td>59</td>\n",
       "      <td>No</td>\n",
       "      <td>Human Resources</td>\n",
       "      <td>Human Resources</td>\n",
       "      <td>Female</td>\n",
       "      <td>Married</td>\n",
       "      <td>18844.0</td>\n",
       "      <td>30.0</td>\n",
       "      <td>3.0</td>\n",
       "      <td>3.0</td>\n",
       "      <td>2.0</td>\n",
       "    </tr>\n",
       "    <tr>\n",
       "      <th>...</th>\n",
       "      <td>...</td>\n",
       "      <td>...</td>\n",
       "      <td>...</td>\n",
       "      <td>...</td>\n",
       "      <td>...</td>\n",
       "      <td>...</td>\n",
       "      <td>...</td>\n",
       "      <td>...</td>\n",
       "      <td>...</td>\n",
       "      <td>...</td>\n",
       "      <td>...</td>\n",
       "    </tr>\n",
       "    <tr>\n",
       "      <th>1374</th>\n",
       "      <td>58</td>\n",
       "      <td>No</td>\n",
       "      <td>Sales</td>\n",
       "      <td>Life Sciences</td>\n",
       "      <td>Female</td>\n",
       "      <td>Married</td>\n",
       "      <td>17875.0</td>\n",
       "      <td>29.0</td>\n",
       "      <td>2.0</td>\n",
       "      <td>2.0</td>\n",
       "      <td>0.0</td>\n",
       "    </tr>\n",
       "    <tr>\n",
       "      <th>1377</th>\n",
       "      <td>49</td>\n",
       "      <td>No</td>\n",
       "      <td>Research &amp; Development</td>\n",
       "      <td>Life Sciences</td>\n",
       "      <td>Male</td>\n",
       "      <td>Married</td>\n",
       "      <td>19161.0</td>\n",
       "      <td>28.0</td>\n",
       "      <td>3.0</td>\n",
       "      <td>3.0</td>\n",
       "      <td>4.0</td>\n",
       "    </tr>\n",
       "    <tr>\n",
       "      <th>1401</th>\n",
       "      <td>55</td>\n",
       "      <td>No</td>\n",
       "      <td>Human Resources</td>\n",
       "      <td>Human Resources</td>\n",
       "      <td>Male</td>\n",
       "      <td>Married</td>\n",
       "      <td>19636.0</td>\n",
       "      <td>35.0</td>\n",
       "      <td>0.0</td>\n",
       "      <td>3.0</td>\n",
       "      <td>1.0</td>\n",
       "    </tr>\n",
       "    <tr>\n",
       "      <th>1437</th>\n",
       "      <td>39</td>\n",
       "      <td>No</td>\n",
       "      <td>Research &amp; Development</td>\n",
       "      <td>Life Sciences</td>\n",
       "      <td>Male</td>\n",
       "      <td>Single</td>\n",
       "      <td>19431.0</td>\n",
       "      <td>21.0</td>\n",
       "      <td>3.0</td>\n",
       "      <td>2.0</td>\n",
       "      <td>1.0</td>\n",
       "    </tr>\n",
       "    <tr>\n",
       "      <th>1443</th>\n",
       "      <td>42</td>\n",
       "      <td>No</td>\n",
       "      <td>Research &amp; Development</td>\n",
       "      <td>Life Sciences</td>\n",
       "      <td>Male</td>\n",
       "      <td>Married</td>\n",
       "      <td>18880.0</td>\n",
       "      <td>24.0</td>\n",
       "      <td>2.0</td>\n",
       "      <td>2.0</td>\n",
       "      <td>4.0</td>\n",
       "    </tr>\n",
       "  </tbody>\n",
       "</table>\n",
       "<p>120 rows × 11 columns</p>\n",
       "</div>"
      ],
      "text/plain": [
       "      Age Attrition              Department    EducationField  Gender  \\\n",
       "25     53        No  Research & Development             Other  Female   \n",
       "29     46        No                   Sales         Marketing  Female   \n",
       "45     41       Yes  Research & Development  Technical Degree  Female   \n",
       "62     50        No  Research & Development           Medical  Female   \n",
       "105    59        No         Human Resources   Human Resources  Female   \n",
       "...   ...       ...                     ...               ...     ...   \n",
       "1374   58        No                   Sales     Life Sciences  Female   \n",
       "1377   49        No  Research & Development     Life Sciences    Male   \n",
       "1401   55        No         Human Resources   Human Resources    Male   \n",
       "1437   39        No  Research & Development     Life Sciences    Male   \n",
       "1443   42        No  Research & Development     Life Sciences    Male   \n",
       "\n",
       "     MaritalStatus  MonthlyIncome  TotalWorkingYears  TrainingTimesLastYear  \\\n",
       "25        Divorced        19094.0               26.0                    3.0   \n",
       "29          Single        18947.0               22.0                    2.0   \n",
       "45         Married        19545.0               23.0                    0.0   \n",
       "62        Divorced        18740.0               29.0                    2.0   \n",
       "105        Married        18844.0               30.0                    3.0   \n",
       "...            ...            ...                ...                    ...   \n",
       "1374       Married        17875.0               29.0                    2.0   \n",
       "1377       Married        19161.0               28.0                    3.0   \n",
       "1401       Married        19636.0               35.0                    0.0   \n",
       "1437        Single        19431.0               21.0                    3.0   \n",
       "1443       Married        18880.0               24.0                    2.0   \n",
       "\n",
       "      WorkLifeBalance  YearsSinceLastPromotion  \n",
       "25                2.0                      4.0  \n",
       "29                2.0                      2.0  \n",
       "45                3.0                     15.0  \n",
       "62                2.0                     13.0  \n",
       "105               3.0                      2.0  \n",
       "...               ...                      ...  \n",
       "1374              2.0                      0.0  \n",
       "1377              3.0                      4.0  \n",
       "1401              3.0                      1.0  \n",
       "1437              2.0                      1.0  \n",
       "1443              2.0                      4.0  \n",
       "\n",
       "[120 rows x 11 columns]"
      ]
     },
     "execution_count": 67,
     "metadata": {},
     "output_type": "execute_result"
    }
   ],
   "source": [
    "# calculate the IQR for the MonthlyIncome column\n",
    "Q1 = df['MonthlyIncome'].quantile(0.25)\n",
    "Q3 = df['MonthlyIncome'].quantile(0.75)\n",
    "IQR = Q3 - Q1\n",
    "\n",
    "# identify the outliers\n",
    "outliers = df[(df['MonthlyIncome'] < Q1 - 1.5*IQR) | (df['MonthlyIncome'] > Q3 + 1.5*IQR)]\n",
    "\n",
    "# print the rows where the MonthlyIncome column contains outliers\n",
    "print('Rows with outliers:')\n",
    "outliers.head(1000)\n"
   ]
  },
  {
   "attachments": {},
   "cell_type": "markdown",
   "metadata": {},
   "source": [
    "The IQR (Interquartile Range) is a measure of variability in a dataset, defined as the difference between the 75th percentile (Q3) and the 25th percentile (Q1). It provides a measure of the spread of the middle 50% of the data. Therefore any data point that falls below Q1 - 1.5IQR or above Q3 + 1.5IQR is considered an outlier. This rule is a commonly used method to identify outliers in a dataset because it is relatively robust to non-normal distributions and extreme values."
   ]
  },
  {
   "attachments": {},
   "cell_type": "markdown",
   "metadata": {},
   "source": [
    "My reason to keep outliers in the Monthly Income column is that they may represent valid data points that are simply extreme or unusual due to factors such as a high-paying job, a one-time bonus, or a large investment income. Removing these outliers may result in a loss of valuable information and lead to biased results."
   ]
  },
  {
   "attachments": {},
   "cell_type": "markdown",
   "metadata": {},
   "source": [
    "### Filling missing values with appropriate values"
   ]
  },
  {
   "cell_type": "code",
   "execution_count": 65,
   "metadata": {},
   "outputs": [
    {
     "name": "stdout",
     "output_type": "stream",
     "text": [
      "Age                        0\n",
      "Attrition                  0\n",
      "Department                 0\n",
      "EducationField             0\n",
      "Gender                     0\n",
      "MaritalStatus              0\n",
      "MonthlyIncome              0\n",
      "TotalWorkingYears          0\n",
      "TrainingTimesLastYear      0\n",
      "WorkLifeBalance            0\n",
      "YearsSinceLastPromotion    0\n",
      "dtype: int64\n"
     ]
    }
   ],
   "source": [
    "# Mean or median imputation for numeric columns\n",
    "num_cols = [\"MonthlyIncome\", \"TotalWorkingYears\", \"TrainingTimesLastYear\", \"WorkLifeBalance\", \"YearsSinceLastPromotion\"]\n",
    "for col in num_cols:\n",
    "    if df[col].isnull().sum() > 0:  # Check if there are any missing values in the column\n",
    "        if df[col].dtype == \"float64\":  # Check if the column is numeric\n",
    "            df[col].fillna(df[col].median(), inplace=True)  # Replace missing values with median\n",
    "        elif df[col].dtype == \"int64\":\n",
    "            df[col].fillna(df[col].median(), inplace=True)  # Replace missing values with median\n",
    "\n",
    "# Mode imputation for categorical columns\n",
    "cat_cols = [\"Department\", \"EducationField\", \"Gender\", \"MaritalStatus\"]\n",
    "for col in cat_cols:\n",
    "    if df[col].isnull().sum() > 0:  # Check if there are any missing values in the column\n",
    "        if df[col].dtype == \"object\":  # Check if the column is categorical\n",
    "            df[col].fillna(df[col].mode()[0], inplace=True)  # Replace missing values with mode\n",
    "\n",
    "# Save the dataframe to a new Excel file\n",
    "df.to_excel(\"imputed_data.xlsx\", index=False)\n",
    "\n",
    "# showing number of missing values in each column to check if there are any missing values\n",
    "print(df.isna().sum())"
   ]
  },
  {
   "attachments": {},
   "cell_type": "markdown",
   "metadata": {},
   "source": [
    "I used the Mean or median imputation for numeric columns and Mode imputation for categorical columns to fill the missing values. \n",
    "I used these methods since the data is normally distributed and the outliers are not significant."
   ]
  },
  {
   "attachments": {},
   "cell_type": "markdown",
   "metadata": {},
   "source": [
    "### Creating a Dummy variable for Gender column, and dropping the original column"
   ]
  },
  {
   "cell_type": "code",
   "execution_count": 106,
   "metadata": {},
   "outputs": [],
   "source": [
    "df = pd.read_excel('imputed_data.xlsx')\n",
    "# Create dummy variable for Education Field column\n",
    "edu_field_dummy = pd.get_dummies(df['Gender'], prefix='Gender', drop_first=True)\n",
    "\n",
    "# Append the dummy variable to the original dataset\n",
    "df = pd.concat([df, edu_field_dummy], axis=1)\n",
    "\n",
    "# Drop the original Education Field column\n",
    "df.drop('Gender', axis=1, inplace=True)"
   ]
  },
  {
   "attachments": {},
   "cell_type": "markdown",
   "metadata": {},
   "source": [
    "This creates a new dataset with the same columns as before, but with an additional column for the \"Education Field\" dummy variable, which has a value of 1 if the observation belongs to a certain education field, and 0 otherwise. I can use this new dataset for further analysis, such as regression models or hypothesis testing."
   ]
  },
  {
   "cell_type": "code",
   "execution_count": 108,
   "metadata": {},
   "outputs": [
    {
     "name": "stdout",
     "output_type": "stream",
     "text": [
      "   Age Attrition              Department EducationField MaritalStatus  \\\n",
      "0   41       Yes                   Sales  Life Sciences        Single   \n",
      "1   49        No  Research & Development  Life Sciences       Married   \n",
      "2   37       Yes  Research & Development          Other        Single   \n",
      "3   33        No  Research & Development  Life Sciences       Married   \n",
      "4   27        No  Research & Development        Medical       Married   \n",
      "\n",
      "   MonthlyIncome  TotalWorkingYears  TrainingTimesLastYear  WorkLifeBalance  \\\n",
      "0           5993                  8                      0                1   \n",
      "1           5130                 10                      3                3   \n",
      "2           2090                  7                      3                3   \n",
      "3           2909                  8                      3                3   \n",
      "4           3468                  6                      3                3   \n",
      "\n",
      "   YearsSinceLastPromotion  Gender_Male  \n",
      "0                        0            0  \n",
      "1                        1            1  \n",
      "2                        0            1  \n",
      "3                        3            0  \n",
      "4                        2            1  \n",
      "Index(['Age', 'Attrition', 'Department', 'EducationField', 'MaritalStatus',\n",
      "       'MonthlyIncome', 'TotalWorkingYears', 'TrainingTimesLastYear',\n",
      "       'WorkLifeBalance', 'YearsSinceLastPromotion', 'Gender_Male'],\n",
      "      dtype='object')\n"
     ]
    }
   ],
   "source": [
    "# Print first few rows of the new dataset\n",
    "print(df.head(5))\n",
    "\n",
    "# Inspect column names\n",
    "print(df.columns)\n"
   ]
  },
  {
   "attachments": {},
   "cell_type": "markdown",
   "metadata": {},
   "source": [
    "Making sure that my dummy variable has the correct values, I printed the first 5 rows of the new dataset."
   ]
  },
  {
   "attachments": {},
   "cell_type": "markdown",
   "metadata": {},
   "source": [
    "## Statistical Analysis"
   ]
  },
  {
   "attachments": {},
   "cell_type": "markdown",
   "metadata": {},
   "source": [
    "### Calculating correlation between all variables"
   ]
  },
  {
   "cell_type": "code",
   "execution_count": 107,
   "metadata": {},
   "outputs": [
    {
     "name": "stderr",
     "output_type": "stream",
     "text": [
      "C:\\Users\\bachi\\AppData\\Local\\Temp\\ipykernel_17456\\2358720950.py:1: FutureWarning: The default value of numeric_only in DataFrame.corr is deprecated. In a future version, it will default to False. Select only valid columns or specify the value of numeric_only to silence this warning.\n",
      "  matrix = df.corr().round(2)\n"
     ]
    },
    {
     "data": {
      "image/png": "[encoded data removed]",
      "text/plain": [
       "<Figure size 640x480 with 2 Axes>"
      ]
     },
     "metadata": {},
     "output_type": "display_data"
    }
   ],
   "source": [
    "matrix = df.corr().round(2)\n",
    "sns.heatmap(matrix, annot=True)\n",
    "plt.show()"
   ]
  },
  {
   "attachments": {},
   "cell_type": "markdown",
   "metadata": {},
   "source": [
    "I calculated the correlation between all variables in the dataset, then presented them on a heat map since using a heat map to display correlation values can be a quick and effective way to visualize relationships between pairs of variables in a large dataset."
   ]
  },
  {
   "attachments": {},
   "cell_type": "markdown",
   "metadata": {},
   "source": [
    "#### Correlation Interpretation"
   ]
  },
  {
   "attachments": {},
   "cell_type": "markdown",
   "metadata": {},
   "source": [
    "The correlation between gender and all other columns is between 0 and -0.05, it indicates that there is no significant linear relationship between gender and any of the other variables. This means that gender is not a major factor in determining monthly income, total working years, training times last year, work-life balance, or years since last promotion for the individuals in your dataset.\n",
    "\n",
    "Note:\n",
    "\n",
    "The fact that gender has a weak or non-existent correlation with the other variables in this dataset means that gender is not a significant factor in determining the outcomes you are interested in. This information can be useful in making business decisions in several ways.\n",
    "\n",
    "First, it means that you should not make gender a primary factor when making decisions related to hiring, promotions, or compensation. Instead, you should focus on factors that are more strongly correlated with the outcomes you are interested in, such as experience, education, and job performance.\n",
    "\n",
    "Second, it can help you avoid making assumptions or stereotypes about gender and its impact on business outcomes. By recognizing that gender is not a significant factor in your data, you can make decisions based on data-driven analysis rather than preconceived notions or biases.\n",
    "\n",
    "Third, this information can guide you in developing strategies to promote diversity and inclusion in your business. For example, if you notice that there are disparities in outcomes based on factors other than gender (such as race or ethnicity), you can develop targeted programs to address these disparities and promote greater equity in your workplace.\n",
    "\n",
    "Overall, understanding the correlation between gender and the other variables in your dataset can help you make more informed and equitable business decisions based on objective data analysis rather than assumptions or biases."
   ]
  },
  {
   "attachments": {},
   "cell_type": "markdown",
   "metadata": {},
   "source": [
    "A correlation coefficient of 0.77 between the Total Working Years and Monthly Income indicates a strong positive relationship between these two variables. In other words, the data suggests that as the total working years of an individual increase, their monthly income tends to increase as well.\n",
    "\n",
    "Note: \n",
    "\n",
    "The correlation coefficient between Total Working Years and Monthly Income can help you make a business decision by providing insights into the potential relationship between these variables in your workforce.\n",
    "\n",
    "For example, if you are a business owner or manager and you are looking to set salaries for your employees, knowing that there is a strong positive correlation between Total Working Years and Monthly Income can help you make informed decisions about salary levels. You may consider offering salary increases or bonuses to employees who have been with the company for longer periods or have more years of experience in their field.\n",
    "\n",
    "Similarly, if you are planning to hire new employees, you may consider the potential impact of an individual's Total Working Years on their expected Monthly Income. You may want to offer a higher salary to candidates who have more experience in their field or have been working for longer periods."
   ]
  },
  {
   "attachments": {},
   "cell_type": "markdown",
   "metadata": {},
   "source": [
    "A correlation coefficient of 0.49 between monthly income and total working years indicates a moderate positive relationship between the two variables. This means that as the total working years of an individual increase, their monthly income also tends to increase.\n",
    "\n",
    "Note:\n",
    "\n",
    "The correlation between monthly income and total working years can help inform business decisions in a few ways:\n",
    "\n",
    "Employee Compensation: The correlation suggests that employees with more working experience tend to earn more. A business owner or manager may use this information to determine how to compensate employees, particularly when it comes to setting salary or wage rates.\n",
    "\n",
    "Recruitment and Retention: The correlation could be useful in identifying job candidates who have the right level of experience for a particular role. Additionally, the information could be used to develop retention strategies to keep experienced employees from seeking employment elsewhere.\n",
    "\n",
    "Training and Development: Since the correlation suggests that employees with more training tend to earn more, a business may want to invest more in training and development programs for employees. This can help improve employee skills and knowledge, leading to better job performance, increased productivity, and potentially higher earnings."
   ]
  },
  {
   "attachments": {},
   "cell_type": "markdown",
   "metadata": {},
   "source": [
    "A correlation coefficient of 0.41 between Total Working Years and Years Since Last Promotion indicates a moderate positive correlation between these two variables. This means that there is a tendency for employees with higher total working years to also have more years since their last promotion.\n",
    "\n",
    "Note:\n",
    "\n",
    "The correlation coefficient between Total Working Years and Years Since Last Promotion can provide you with useful insights to make business decisions in the following ways:\n",
    "\n",
    "Promotion and Career Growth Strategies: If you notice a strong correlation between Total Working Years and Years Since Last Promotion, you can use this information to develop promotion and career growth strategies for your employees. For example, you could identify employees who have been working with the company for a long time but haven't received a promotion recently and provide them with opportunities to enhance their skills and take on more responsibilities to increase their chances of promotion.\n",
    "\n",
    "Employee Retention: Employees who feel that they have reached a career plateau may become disengaged and may be more likely to leave the organization. By understanding the correlation between Total Working Years and Years Since Last Promotion, you can identify employees who may be at risk of leaving and develop retention strategies to keep them engaged and motivated.\n",
    "\n",
    "Succession Planning: Understanding the correlation between Total Working Years and Years Since Last Promotion can help you identify potential future leaders within your organization. You can use this information to develop succession plans and identify employees who have the potential to take on leadership roles within the company."
   ]
  },
  {
   "cell_type": "markdown",
   "metadata": {},
   "source": []
  },
  {
   "attachments": {},
   "cell_type": "markdown",
   "metadata": {},
   "source": [
    "### Calculating the mean, median, mode, and standard deviation for the Monthly Income column"
   ]
  },
  {
   "cell_type": "code",
   "execution_count": 109,
   "metadata": {},
   "outputs": [
    {
     "name": "stdout",
     "output_type": "stream",
     "text": [
      "               Age  MonthlyIncome  TotalWorkingYears  TrainingTimesLastYear  \\\n",
      "count  1470.000000    1470.000000        1470.000000            1470.000000   \n",
      "mean     36.923810    6476.310884          11.276190               2.797959   \n",
      "std       9.135373    4685.864452           7.765096               1.288001   \n",
      "min      18.000000    1009.000000           0.000000               0.000000   \n",
      "25%      30.000000    2926.750000           6.000000               2.000000   \n",
      "50%      36.000000    4907.000000          10.000000               3.000000   \n",
      "75%      43.000000    8233.750000          15.000000               3.000000   \n",
      "max      60.000000   19999.000000          40.000000               6.000000   \n",
      "\n",
      "       WorkLifeBalance  YearsSinceLastPromotion  Gender_Male  \n",
      "count      1470.000000              1470.000000  1470.000000  \n",
      "mean          2.761905                 2.183673     0.602721  \n",
      "std           0.706224                 3.220130     0.489501  \n",
      "min           1.000000                 0.000000     0.000000  \n",
      "25%           2.000000                 0.000000     0.000000  \n",
      "50%           3.000000                 1.000000     1.000000  \n",
      "75%           3.000000                 3.000000     1.000000  \n",
      "max           4.000000                15.000000     1.000000  \n"
     ]
    }
   ],
   "source": [
    "# descriptive statistics\n",
    "print(df.describe())"
   ]
  },
  {
   "attachments": {},
   "cell_type": "markdown",
   "metadata": {},
   "source": [
    "This shows the descriptive statistics for each variable in the dataset. "
   ]
  },
  {
   "attachments": {},
   "cell_type": "markdown",
   "metadata": {},
   "source": [
    "### Calculating the 20th and 80th percentile of a numeric column"
   ]
  },
  {
   "cell_type": "code",
   "execution_count": 110,
   "metadata": {},
   "outputs": [
    {
     "name": "stdout",
     "output_type": "stream",
     "text": [
      "2699.2\n",
      "9769.600000000002\n"
     ]
    }
   ],
   "source": [
    "# 20th and 80th percentile of a column\n",
    "print(df['MonthlyIncome'].quantile(0.2))\n",
    "print(df['MonthlyIncome'].quantile(0.8))"
   ]
  },
  {
   "attachments": {},
   "cell_type": "markdown",
   "metadata": {},
   "source": [
    "the 20th percentile represents the value below which 20% of the observations lie (2699.2), while the 80th percentile represents the value below which 80% of the observations lie (9769.6)."
   ]
  },
  {
   "attachments": {},
   "cell_type": "markdown",
   "metadata": {},
   "source": [
    "## Hypothesis Testing"
   ]
  },
  {
   "attachments": {},
   "cell_type": "markdown",
   "metadata": {},
   "source": [
    "### Hypothesis 1:"
   ]
  },
  {
   "attachments": {},
   "cell_type": "markdown",
   "metadata": {},
   "source": [
    "Employees who received more training last year have higher work-life balance."
   ]
  },
  {
   "attachments": {},
   "cell_type": "markdown",
   "metadata": {},
   "source": [
    "### Hypothesis 2:"
   ]
  },
  {
   "attachments": {},
   "cell_type": "markdown",
   "metadata": {},
   "source": [
    "There is a significant difference in the mean monthly income of male and female employees."
   ]
  },
  {
   "attachments": {},
   "cell_type": "markdown",
   "metadata": {},
   "source": [
    "### Hypothesis 3:"
   ]
  },
  {
   "attachments": {},
   "cell_type": "markdown",
   "metadata": {},
   "source": [
    "Employees who have been working for a longer period have a higher total income."
   ]
  },
  {
   "attachments": {},
   "cell_type": "markdown",
   "metadata": {},
   "source": [
    "### Explanation of hypotheses:"
   ]
  },
  {
   "attachments": {},
   "cell_type": "markdown",
   "metadata": {},
   "source": [
    "If hypothesis 1 is true, it would suggest that training is a critical factor in improving the work-life balance of employees. This could help in identifying the need for more training programs to promote a better work-life balance."
   ]
  },
  {
   "attachments": {},
   "cell_type": "markdown",
   "metadata": {},
   "source": [
    "Hypothesis 2 aims to investigate if there is any gender-based income disparity. If the hypothesis is proven true, it may indicate that there is a need for gender-based income equity initiatives."
   ]
  },
  {
   "attachments": {},
   "cell_type": "markdown",
   "metadata": {},
   "source": [
    "If hypothesis 3 is true, it would suggest that employees who have been working for a longer period have a higher level of experience, which is reflected in their income. This could help identify the need for experience-based incentives or rewards."
   ]
  },
  {
   "attachments": {},
   "cell_type": "markdown",
   "metadata": {},
   "source": [
    "### Testing the hypotheses:"
   ]
  },
  {
   "attachments": {},
   "cell_type": "markdown",
   "metadata": {},
   "source": [
    "To test hypothesis 1, we can use a Pearson's correlation coefficient to examine the relationship between training times last year and work-life balance. If the coefficient is positive and statistically significant, we can conclude that the hypothesis is true."
   ]
  },
  {
   "attachments": {},
   "cell_type": "markdown",
   "metadata": {},
   "source": [
    "To test hypothesis 2, we can use a t-test to examine the difference in the mean monthly income of male and female employees. If the t-value is significant, we can conclude that the hypothesis is true."
   ]
  },
  {
   "attachments": {},
   "cell_type": "markdown",
   "metadata": {},
   "source": [
    "To test hypothesis 3, we can use a Pearson's correlation coefficient to examine the relationship between total working years and total income. If the coefficient is positive and statistically significant, we can conclude that the hypothesis is true."
   ]
  },
  {
   "attachments": {},
   "cell_type": "markdown",
   "metadata": {},
   "source": [
    "### Business actions:"
   ]
  },
  {
   "attachments": {},
   "cell_type": "markdown",
   "metadata": {},
   "source": [
    "If hypothesis 1 is true, the company could focus on providing more training programs to employees to promote a better work-life balance."
   ]
  },
  {
   "attachments": {},
   "cell_type": "markdown",
   "metadata": {},
   "source": [
    "If hypothesis 2 is true, the company could initiate measures to ensure gender-based income equity."
   ]
  },
  {
   "attachments": {},
   "cell_type": "markdown",
   "metadata": {},
   "source": [
    "If hypothesis 3 is true, the company could design experience-based incentives or rewards to retain employees who have been working for a longer period."
   ]
  }
 ],
 "metadata": {
  "kernelspec": {
   "display_name": "Python 3",
   "language": "python",
   "name": "python3"
  },
  "language_info": {
   "codemirror_mode": {
    "name": "ipython",
    "version": 3
   },
   "file_extension": ".py",
   "mimetype": "text/x-python",
   "name": "python",
   "nbconvert_exporter": "python",
   "pygments_lexer": "ipython3",
   "version": "3.11.1"
  },
  "orig_nbformat": 4,
  "vscode": {
   "interpreter": {
    "hash": "d37c1e052f428f944f06f17a7e99da9f21f830754ff64da16e4d3f8ab0eea663"
   }
  }
 },
 "nbformat": 4,
 "nbformat_minor": 2
}
